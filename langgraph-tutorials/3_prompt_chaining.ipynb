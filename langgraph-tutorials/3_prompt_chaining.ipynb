{
 "cells": [
  {
   "cell_type": "code",
   "execution_count": 1,
   "id": "26d627a2",
   "metadata": {},
   "outputs": [
    {
     "data": {
      "text/plain": [
       "True"
      ]
     },
     "execution_count": 1,
     "metadata": {},
     "output_type": "execute_result"
    }
   ],
   "source": [
    "import os \n",
    "from langgraph.graph import StateGraph, START, END\n",
    "from typing import TypedDict\n",
    "from langchain_google_genai import ChatGoogleGenerativeAI\n",
    "from dotenv import load_dotenv\n",
    "load_dotenv()"
   ]
  },
  {
   "cell_type": "code",
   "execution_count": 2,
   "id": "3ff450d3",
   "metadata": {},
   "outputs": [],
   "source": [
    "api_key = os.getenv(\"GOOGLE_API_KEY\")\n",
    "if api_key is None:\n",
    "    raise ValueError(\"key not found\")\n",
    "\n",
    "model = ChatGoogleGenerativeAI(model='gemini-1.5-flash')"
   ]
  },
  {
   "cell_type": "code",
   "execution_count": 3,
   "id": "3d5be803",
   "metadata": {},
   "outputs": [],
   "source": [
    "class BlogState(TypedDict):\n",
    "\n",
    "    title: str\n",
    "    outline: str\n",
    "    blog: str\n",
    "    content: str"
   ]
  },
  {
   "cell_type": "code",
   "execution_count": 4,
   "id": "e82d48ad",
   "metadata": {},
   "outputs": [],
   "source": [
    "def create_outline(state: BlogState) -> BlogState:\n",
    "\n",
    "    # fetch title\n",
    "    title = state['title']\n",
    "\n",
    "    # call llm gen outline\n",
    "    prompt = f\"Create a detailed outline for a blog post with the title: {title}\"\n",
    "    outline = model.invoke(prompt).content\n",
    "\n",
    "    # update state\n",
    "    state['outline'] = outline\n",
    "\n",
    "    return state"
   ]
  },
  {
   "cell_type": "code",
   "execution_count": 5,
   "id": "ae8c169a",
   "metadata": {},
   "outputs": [],
   "source": [
    "def create_blog(state: BlogState) -> BlogState:\n",
    "    \n",
    "    title = state['title']\n",
    "    outline = state['outline']\n",
    "\n",
    "    prompt = f\"Write a detailed blog post based on the title: {title} and the outline: {outline}\"\n",
    "\n",
    "    content = model.invoke(prompt).content\n",
    "\n",
    "    state['content'] = content\n",
    "\n",
    "    return state"
   ]
  },
  {
   "cell_type": "code",
   "execution_count": 6,
   "id": "6d3ac289",
   "metadata": {},
   "outputs": [],
   "source": [
    "graph = StateGraph(BlogState)\n",
    "\n",
    "# nodes\n",
    "graph.add_node('create_outline',create_outline)\n",
    "graph.add_node('create_blog',create_blog)\n",
    "\n",
    "# edges\n",
    "graph.add_edge(START, 'create_outline')\n",
    "graph.add_edge('create_outline', 'create_blog')\n",
    "graph.add_edge('create_blog', END)  \n",
    "\n",
    "# compile\n",
    "workflow = graph.compile()\n"
   ]
  },
  {
   "cell_type": "code",
   "execution_count": 7,
   "id": "8a809738",
   "metadata": {},
   "outputs": [
    {
     "name": "stdout",
     "output_type": "stream",
     "text": [
      "## Blog Post Outline: The Rise of AI in Modern Technology\n",
      "\n",
      "**I. Introduction (approx. 100 words)**\n",
      "\n",
      "* **Hook:** Start with a compelling anecdote or statistic showcasing AI's impact in daily life (e.g., personalized recommendations, self-driving cars, medical diagnoses).\n",
      "* **Brief definition of AI:**  Explain Artificial Intelligence in simple terms, avoiding jargon. Focus on its ability to mimic human intelligence.\n",
      "* **Thesis statement:** State the main argument – that AI is rapidly transforming modern technology across various sectors and its impact is only accelerating.\n",
      "* **Roadmap:** Briefly outline the sections to be covered in the post.\n",
      "\n",
      "\n",
      "**II.  Key Areas of AI Development and Application (approx. 300-400 words)**\n",
      "\n",
      "* **A. Machine Learning (ML):**\n",
      "    * Explain ML's core concept (learning from data without explicit programming).\n",
      "    * Examples:  Image recognition (facial recognition, medical imaging), natural language processing (chatbots, language translation), predictive analytics (fraud detection, market forecasting).\n",
      "* **B. Deep Learning (DL):**\n",
      "    * Explain DL as a subset of ML using artificial neural networks.\n",
      "    * Examples:  Self-driving cars, advanced robotics, sophisticated game AI.\n",
      "* **C. Natural Language Processing (NLP):**\n",
      "    * Explain NLP's focus on human-computer interaction through language.\n",
      "    * Examples: Chatbots, virtual assistants (Siri, Alexa), sentiment analysis, language translation.\n",
      "* **D. Computer Vision:**\n",
      "    * Explain how computers \"see\" and interpret images and videos.\n",
      "    * Examples:  Object detection, image classification, facial recognition, medical imaging analysis.\n",
      "\n",
      "\n",
      "**III.  Impact of AI across Industries (approx. 300-400 words)**\n",
      "\n",
      "* **A. Healthcare:**\n",
      "    * AI-powered diagnostics, drug discovery, personalized medicine, robotic surgery.\n",
      "* **B. Finance:**\n",
      "    * Fraud detection, algorithmic trading, risk management, customer service chatbots.\n",
      "* **C. Transportation:**\n",
      "    * Self-driving cars, autonomous delivery systems, traffic optimization.\n",
      "* **D. Manufacturing:**\n",
      "    * Predictive maintenance, quality control, robotic automation.\n",
      "* **E. Retail:**\n",
      "    * Personalized recommendations, inventory management, customer service chatbots.\n",
      "\n",
      "\n",
      "**IV.  Ethical Considerations and Challenges (approx. 200 words)**\n",
      "\n",
      "* **A. Job displacement:** Discuss the potential for AI to automate jobs and the need for reskilling and upskilling initiatives.\n",
      "* **B. Bias and fairness:** Address the issue of algorithmic bias and the importance of developing ethical AI systems.\n",
      "* **C. Privacy and security:**  Discuss concerns around data privacy and the security of AI systems.\n",
      "* **D. Regulation and governance:** Briefly touch upon the need for responsible AI development and regulation.\n",
      "\n",
      "\n",
      "**V. The Future of AI (approx. 150 words)**\n",
      "\n",
      "* **A.  Emerging trends:** Discuss advancements like Explainable AI (XAI), Quantum AI, and the convergence of AI with other technologies (e.g., IoT, blockchain).\n",
      "* **B.  Potential breakthroughs:** Speculate on future possibilities, such as general-purpose AI and its societal impact.\n",
      "* **C.  Concluding thoughts:** Reiterate the transformative power of AI and its potential to shape the future.\n",
      "\n",
      "\n",
      "**VI. Call to Action (approx. 50 words)**\n",
      "\n",
      "* Encourage readers to engage with the topic further (e.g., leave comments, share the post, read related articles).\n",
      "\n",
      "\n",
      "**VII.  Conclusion (approx. 50 words)**\n",
      "\n",
      "* Briefly summarize the key takeaways of the post.\n",
      "* Leave the reader with a final thought-provoking statement about the future of AI.\n",
      "\n",
      "\n",
      "**VIII.  Optional additions:**\n",
      "\n",
      "* Include relevant images and videos to illustrate the points.\n",
      "* Add links to external resources for further reading.\n",
      "\n",
      "\n",
      "This detailed outline provides a solid structure for a comprehensive blog post on the rise of AI in modern technology. Remember to use clear, concise language and avoid overly technical jargon to make the post accessible to a wider audience.\n"
     ]
    }
   ],
   "source": [
    "initial_state = {'title': \"The rise of AI in modern technology\"}\n",
    "final_state = workflow.invoke(initial_state)\n",
    "print(final_state['outline'])"
   ]
  },
  {
   "cell_type": "code",
   "execution_count": 9,
   "id": "375aabcc",
   "metadata": {},
   "outputs": [
    {
     "name": "stdout",
     "output_type": "stream",
     "text": [
      "## The Rise of AI in Modern Technology\n",
      "\n",
      "**I. Introduction**\n",
      "\n",
      "Have you ever received a perfectly tailored product recommendation online, just moments after browsing a similar item?  Or perhaps you've interacted with a chatbot that seamlessly answered your questions? These are just a few examples of artificial intelligence (AI) subtly shaping our daily lives.  Artificial intelligence, in simple terms, refers to the development of computer systems able to perform tasks that typically require human intelligence, such as learning, reasoning, and problem-solving. This blog post will explore the rapid rise of AI in modern technology, examining its key areas of development, its transformative impact across various industries, and the ethical considerations that accompany this powerful technology. We'll also delve into the future of AI and its potential to reshape our world.\n",
      "\n",
      "\n",
      "**II. Key Areas of AI Development and Application**\n",
      "\n",
      "AI's rapid advancement is driven by several key areas of development.  Let's explore some of the most significant:\n",
      "\n",
      "**A. Machine Learning (ML):**  ML is a core concept in AI where systems learn from data without being explicitly programmed.  Instead of relying on pre-defined rules, ML algorithms identify patterns and make predictions based on the data they are trained on.  Examples include image recognition used in facial recognition systems and medical imaging analysis, natural language processing powering chatbots and language translation tools, and predictive analytics employed in fraud detection and market forecasting.\n",
      "\n",
      "**B. Deep Learning (DL):**  DL is a subset of ML that uses artificial neural networks with multiple layers to analyze data.  These networks are inspired by the structure and function of the human brain, allowing for the processing of incredibly complex data.  DL powers self-driving cars by enabling them to perceive their surroundings, advanced robotics capable of performing intricate tasks, and sophisticated game AI that can defeat human champions.\n",
      "\n",
      "**C. Natural Language Processing (NLP):** NLP focuses on enabling computers to understand, interpret, and generate human language. This is crucial for human-computer interaction.  NLP is the engine behind chatbots like those used for customer service, virtual assistants such as Siri and Alexa, sentiment analysis tools used to gauge public opinion, and sophisticated language translation services.\n",
      "\n",
      "**D. Computer Vision:**  Computer vision allows computers to \"see\" and interpret images and videos.  This involves training algorithms to identify objects, classify images, and understand the context within visual data. Applications range from object detection in self-driving cars and facial recognition systems to medical imaging analysis for disease detection.\n",
      "\n",
      "\n",
      "**III. Impact of AI across Industries**\n",
      "\n",
      "The impact of AI is being felt across a wide spectrum of industries:\n",
      "\n",
      "**A. Healthcare:** AI is revolutionizing healthcare through AI-powered diagnostics, assisting in the discovery of new drugs, enabling personalized medicine tailored to individual genetic profiles, and assisting in robotic surgery.\n",
      "\n",
      "**B. Finance:** AI plays a crucial role in fraud detection, powering algorithmic trading strategies, managing risk more effectively, and providing enhanced customer service through AI-powered chatbots.\n",
      "\n",
      "**C. Transportation:** Self-driving cars are perhaps the most visible example of AI's impact on transportation.  Beyond autonomous vehicles, AI optimizes traffic flow and enables autonomous delivery systems.\n",
      "\n",
      "**D. Manufacturing:** AI is transforming manufacturing through predictive maintenance, which anticipates equipment failures, improving quality control, and automating tasks through advanced robotics.\n",
      "\n",
      "**E. Retail:** AI personalizes recommendations, optimizes inventory management, and provides more efficient customer service through chatbots, leading to improved customer experiences and increased sales.\n",
      "\n",
      "\n",
      "**IV. Ethical Considerations and Challenges**\n",
      "\n",
      "The rapid advancement of AI also presents significant ethical considerations and challenges:\n",
      "\n",
      "**A. Job displacement:** Automation driven by AI has the potential to displace workers in various sectors, necessitating reskilling and upskilling initiatives to prepare the workforce for the changing job market.\n",
      "\n",
      "**B. Bias and fairness:**  AI systems are trained on data, and if that data reflects existing societal biases, the AI system will perpetuate and even amplify those biases.  Developing fair and unbiased AI systems is crucial.\n",
      "\n",
      "**C. Privacy and security:** The increasing reliance on AI systems raises concerns about data privacy and the security of these systems from malicious attacks.\n",
      "\n",
      "**D. Regulation and governance:**  The development and deployment of AI require careful consideration of ethical implications and the need for responsible regulation and governance to prevent misuse and ensure fairness.\n",
      "\n",
      "\n",
      "**V. The Future of AI**\n",
      "\n",
      "The future of AI is brimming with potential:\n",
      "\n",
      "**A. Emerging trends:**  Explainable AI (XAI), which aims to make AI decision-making more transparent, Quantum AI, which leverages quantum computing for enhanced processing power, and the convergence of AI with other technologies like the Internet of Things (IoT) and blockchain are shaping the future landscape.\n",
      "\n",
      "**B. Potential breakthroughs:**  The development of Artificial General Intelligence (AGI), a hypothetical AI with human-level intelligence, is a long-term goal with potentially transformative societal impacts.\n",
      "\n",
      "**C. Concluding thoughts:** AI is undeniably a transformative technology with the potential to solve complex problems and improve lives.  However, responsible development and deployment are crucial to ensure its benefits are widely shared and its risks are mitigated.\n",
      "\n",
      "\n",
      "**VI. Call to Action**\n",
      "\n",
      "What are your thoughts on the future of AI? Share your insights and perspectives in the comments below!  Don't forget to share this post with your network and explore the links provided for further reading.\n",
      "\n",
      "\n",
      "**VII. Conclusion**\n",
      "\n",
      "AI is rapidly transforming modern technology, impacting various industries and presenting both opportunities and challenges.  Responsible innovation and ethical considerations are paramount as we navigate this transformative era. The question isn't *if* AI will shape our future, but *how* we will shape its impact.\n",
      "\n",
      "\n",
      "**(VIII. Optional additions would be included here, such as images, videos, and links to relevant articles.)**\n"
     ]
    }
   ],
   "source": [
    "print(final_state['content'])"
   ]
  }
 ],
 "metadata": {
  "kernelspec": {
   "display_name": "langgraph",
   "language": "python",
   "name": "python3"
  },
  "language_info": {
   "codemirror_mode": {
    "name": "ipython",
    "version": 3
   },
   "file_extension": ".py",
   "mimetype": "text/x-python",
   "name": "python",
   "nbconvert_exporter": "python",
   "pygments_lexer": "ipython3",
   "version": "3.11.13"
  }
 },
 "nbformat": 4,
 "nbformat_minor": 5
}
